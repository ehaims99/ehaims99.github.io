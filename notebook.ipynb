{
 "metadata": {
  "language_info": {
   "codemirror_mode": {
    "name": "ipython",
    "version": 3
   },
   "file_extension": ".py",
   "mimetype": "text/x-python",
   "name": "python",
   "nbconvert_exporter": "python",
   "pygments_lexer": "ipython3",
   "version": "3.9.1"
  },
  "orig_nbformat": 2,
  "kernelspec": {
   "name": "python391jvsc74a57bd063fd5069d213b44bf678585dea6b12cceca9941eaf7f819626cde1f2670de90d",
   "display_name": "Python 3.9.1 64-bit"
  },
  "metadata": {
   "interpreter": {
    "hash": "63fd5069d213b44bf678585dea6b12cceca9941eaf7f819626cde1f2670de90d"
   }
  }
 },
 "nbformat": 4,
 "nbformat_minor": 2,
 "cells": [
  {
   "source": [
    "# &emsp; &emsp; &emsp;  &emsp; &emsp; &emsp;&emsp; &emsp; &emsp;  &emsp; &emsp; &emsp;&emsp; &emsp; &emsp; &emsp;  &emsp; &emsp; Data Science Pipeline Tutorial"
   ],
   "cell_type": "markdown",
   "metadata": {}
  },
  {
   "source": [
    "&emsp; &emsp; &emsp;  &emsp; &emsp; &emsp;&emsp; &emsp; &emsp;  &emsp; &emsp; &emsp;&emsp; &emsp; &emsp;  &emsp; &emsp; &emsp;&emsp; &emsp; &emsp;  &emsp; &emsp; &emsp;&emsp; &emsp; &emsp;&emsp; &emsp; &emsp;&emsp; &emsp; &emsp; &emsp;&emsp;&emsp; &emsp; &emsp; &emsp;&emsp; &emsp;&emsp;&emsp; By Elan Haims and Jason Zhang"
   ],
   "cell_type": "markdown",
   "metadata": {}
  },
  {
   "source": [
    "## &emsp; &emsp; &emsp;  &emsp; &emsp; &emsp;&emsp; &emsp; &emsp;  &emsp; &emsp; &emsp;&emsp; &emsp; &emsp;  &emsp; &emsp; &emsp;&emsp; &emsp; &emsp;  &emsp; &emsp; &emsp; &emsp;                                 Introduction"
   ],
   "cell_type": "markdown",
   "metadata": {}
  },
  {
   "source": [
    "In this tutorial, we will be walking you through the steps of retreiving, managing, and representing data. We will then show you how to perform analysis on that data along with hypothesis testing and machine learning. <br> For this tutorial, we will be using a dataset from https://github.com/jamesqo/gun-violence-data that has over 200,000 datapoints for gun violence in the United States to show you each step of the data science pipeline.  "
   ],
   "cell_type": "markdown",
   "metadata": {}
  },
  {
   "source": [
    "## Setting up the environment"
   ],
   "cell_type": "markdown",
   "metadata": {}
  },
  {
   "source": [
    "Our first step is to install all of the necessary modules to run our project. We will be using pandas to store and manage our data along with matplotlib and seaborn to represent and visualize that data with plots."
   ],
   "cell_type": "markdown",
   "metadata": {}
  },
  {
   "cell_type": "code",
   "execution_count": 92,
   "metadata": {},
   "outputs": [],
   "source": [
    "import pandas as pd\n",
    "import matplotlib.pyplot as plt\n",
    "import seaborn as sns\n",
    "import re"
   ]
  },
  {
   "source": [
    "## Retreiving the Data"
   ],
   "cell_type": "markdown",
   "metadata": {}
  },
  {
   "source": [
    "Now that we have our environment set up we need to retreive our data. Our dataset is stored as \"gun_violence_data.csv\" in the same directory as this Jupyter Notebook. <br> We can then use the \"read_csv()\" function from pandas to load that dataset into our notebook and stores it as a DataFrame."
   ],
   "cell_type": "markdown",
   "metadata": {}
  },
  {
   "cell_type": "code",
   "execution_count": 93,
   "metadata": {},
   "outputs": [
    {
     "output_type": "execute_result",
     "data": {
      "text/plain": [
       "   incident_id      date           state city_or_county  \\\n",
       "0     461105.0  1/1/2013    Pennsylvania     Mckeesport   \n",
       "1     460726.0  1/1/2013      California      Hawthorne   \n",
       "2     478855.0  1/1/2013            Ohio         Lorain   \n",
       "3     478925.0  1/5/2013        Colorado         Aurora   \n",
       "4     478959.0  1/7/2013  North Carolina     Greensboro   \n",
       "\n",
       "                                     address  n_killed  n_injured  \\\n",
       "0  1506 Versailles Avenue and Coursin Street       0.0        4.0   \n",
       "1               13500 block of Cerise Avenue       1.0        3.0   \n",
       "2                      1776 East 28th Street       1.0        3.0   \n",
       "3           16000 block of East Ithaca Place       4.0        0.0   \n",
       "4                  307 Mourning Dove Terrace       2.0        2.0   \n",
       "\n",
       "                                        incident_url  \\\n",
       "0  http://www.gunviolencearchive.org/incident/461105   \n",
       "1  http://www.gunviolencearchive.org/incident/460726   \n",
       "2  http://www.gunviolencearchive.org/incident/478855   \n",
       "3  http://www.gunviolencearchive.org/incident/478925   \n",
       "4  http://www.gunviolencearchive.org/incident/478959   \n",
       "\n",
       "                                          source_url  \\\n",
       "0  http://www.post-gazette.com/local/south/2013/0...   \n",
       "1  http://www.dailybulletin.com/article/zz/201301...   \n",
       "2  http://chronicle.northcoastnow.com/2013/02/14/...   \n",
       "3  http://www.dailydemocrat.com/20130106/aurora-s...   \n",
       "4  http://www.journalnow.com/news/local/article_d...   \n",
       "\n",
       "  incident_url_fields_missing  ...                    participant_age  \\\n",
       "0                       False  ...                              0::20   \n",
       "1                       False  ...                              0::20   \n",
       "2                       False  ...  0::25||1::31||2::33||3::34||4::33   \n",
       "3                       False  ...         0::29||1::33||2::56||3::33   \n",
       "4                       False  ...         0::18||1::46||2::14||3::47   \n",
       "\n",
       "                               participant_age_group  \\\n",
       "0  0::Adult 18+||1::Adult 18+||2::Adult 18+||3::A...   \n",
       "1  0::Adult 18+||1::Adult 18+||2::Adult 18+||3::A...   \n",
       "2  0::Adult 18+||1::Adult 18+||2::Adult 18+||3::A...   \n",
       "3  0::Adult 18+||1::Adult 18+||2::Adult 18+||3::A...   \n",
       "4  0::Adult 18+||1::Adult 18+||2::Teen 12-17||3::...   \n",
       "\n",
       "                            participant_gender  \\\n",
       "0         0::Male||1::Male||3::Male||4::Female   \n",
       "1                                      0::Male   \n",
       "2  0::Male||1::Male||2::Male||3::Male||4::Male   \n",
       "3         0::Female||1::Male||2::Male||3::Male   \n",
       "4       0::Female||1::Male||2::Male||3::Female   \n",
       "\n",
       "                                    participant_name  \\\n",
       "0                                     0::Julian Sims   \n",
       "1                                  0::Bernard Gillis   \n",
       "2  0::Damien Bell||1::Desmen Noble||2::Herman Sea...   \n",
       "3  0::Stacie Philbrook||1::Christopher Ratliffe||...   \n",
       "4  0::Danielle Imani Jameison||1::Maurice Eugene ...   \n",
       "\n",
       "   participant_relationship  \\\n",
       "0                       NaN   \n",
       "1                       NaN   \n",
       "2                       NaN   \n",
       "3                       NaN   \n",
       "4                 3::Family   \n",
       "\n",
       "                                  participant_status  \\\n",
       "0  0::Arrested||1::Injured||2::Injured||3::Injure...   \n",
       "1      0::Killed||1::Injured||2::Injured||3::Injured   \n",
       "2  0::Injured, Unharmed, Arrested||1::Unharmed, A...   \n",
       "3         0::Killed||1::Killed||2::Killed||3::Killed   \n",
       "4       0::Injured||1::Injured||2::Killed||3::Killed   \n",
       "\n",
       "                                    participant_type  \\\n",
       "0  0::Victim||1::Victim||2::Victim||3::Victim||4:...   \n",
       "1  0::Victim||1::Victim||2::Victim||3::Victim||4:...   \n",
       "2  0::Subject-Suspect||1::Subject-Suspect||2::Vic...   \n",
       "3  0::Victim||1::Victim||2::Victim||3::Subject-Su...   \n",
       "4  0::Victim||1::Victim||2::Victim||3::Subject-Su...   \n",
       "\n",
       "                                             sources state_house_district  \\\n",
       "0  http://pittsburgh.cbslocal.com/2013/01/01/4-pe...                  NaN   \n",
       "1  http://losangeles.cbslocal.com/2013/01/01/man-...                 62.0   \n",
       "2  http://www.morningjournal.com/general-news/201...                 56.0   \n",
       "3  http://denver.cbslocal.com/2013/01/06/officer-...                 40.0   \n",
       "4  http://myfox8.com/2013/01/08/update-mother-sho...                 62.0   \n",
       "\n",
       "  state_senate_district  \n",
       "0                   NaN  \n",
       "1                  35.0  \n",
       "2                  13.0  \n",
       "3                  28.0  \n",
       "4                  27.0  \n",
       "\n",
       "[5 rows x 29 columns]"
      ],
      "text/html": "<div>\n<style scoped>\n    .dataframe tbody tr th:only-of-type {\n        vertical-align: middle;\n    }\n\n    .dataframe tbody tr th {\n        vertical-align: top;\n    }\n\n    .dataframe thead th {\n        text-align: right;\n    }\n</style>\n<table border=\"1\" class=\"dataframe\">\n  <thead>\n    <tr style=\"text-align: right;\">\n      <th></th>\n      <th>incident_id</th>\n      <th>date</th>\n      <th>state</th>\n      <th>city_or_county</th>\n      <th>address</th>\n      <th>n_killed</th>\n      <th>n_injured</th>\n      <th>incident_url</th>\n      <th>source_url</th>\n      <th>incident_url_fields_missing</th>\n      <th>...</th>\n      <th>participant_age</th>\n      <th>participant_age_group</th>\n      <th>participant_gender</th>\n      <th>participant_name</th>\n      <th>participant_relationship</th>\n      <th>participant_status</th>\n      <th>participant_type</th>\n      <th>sources</th>\n      <th>state_house_district</th>\n      <th>state_senate_district</th>\n    </tr>\n  </thead>\n  <tbody>\n    <tr>\n      <th>0</th>\n      <td>461105.0</td>\n      <td>1/1/2013</td>\n      <td>Pennsylvania</td>\n      <td>Mckeesport</td>\n      <td>1506 Versailles Avenue and Coursin Street</td>\n      <td>0.0</td>\n      <td>4.0</td>\n      <td>http://www.gunviolencearchive.org/incident/461105</td>\n      <td>http://www.post-gazette.com/local/south/2013/0...</td>\n      <td>False</td>\n      <td>...</td>\n      <td>0::20</td>\n      <td>0::Adult 18+||1::Adult 18+||2::Adult 18+||3::A...</td>\n      <td>0::Male||1::Male||3::Male||4::Female</td>\n      <td>0::Julian Sims</td>\n      <td>NaN</td>\n      <td>0::Arrested||1::Injured||2::Injured||3::Injure...</td>\n      <td>0::Victim||1::Victim||2::Victim||3::Victim||4:...</td>\n      <td>http://pittsburgh.cbslocal.com/2013/01/01/4-pe...</td>\n      <td>NaN</td>\n      <td>NaN</td>\n    </tr>\n    <tr>\n      <th>1</th>\n      <td>460726.0</td>\n      <td>1/1/2013</td>\n      <td>California</td>\n      <td>Hawthorne</td>\n      <td>13500 block of Cerise Avenue</td>\n      <td>1.0</td>\n      <td>3.0</td>\n      <td>http://www.gunviolencearchive.org/incident/460726</td>\n      <td>http://www.dailybulletin.com/article/zz/201301...</td>\n      <td>False</td>\n      <td>...</td>\n      <td>0::20</td>\n      <td>0::Adult 18+||1::Adult 18+||2::Adult 18+||3::A...</td>\n      <td>0::Male</td>\n      <td>0::Bernard Gillis</td>\n      <td>NaN</td>\n      <td>0::Killed||1::Injured||2::Injured||3::Injured</td>\n      <td>0::Victim||1::Victim||2::Victim||3::Victim||4:...</td>\n      <td>http://losangeles.cbslocal.com/2013/01/01/man-...</td>\n      <td>62.0</td>\n      <td>35.0</td>\n    </tr>\n    <tr>\n      <th>2</th>\n      <td>478855.0</td>\n      <td>1/1/2013</td>\n      <td>Ohio</td>\n      <td>Lorain</td>\n      <td>1776 East 28th Street</td>\n      <td>1.0</td>\n      <td>3.0</td>\n      <td>http://www.gunviolencearchive.org/incident/478855</td>\n      <td>http://chronicle.northcoastnow.com/2013/02/14/...</td>\n      <td>False</td>\n      <td>...</td>\n      <td>0::25||1::31||2::33||3::34||4::33</td>\n      <td>0::Adult 18+||1::Adult 18+||2::Adult 18+||3::A...</td>\n      <td>0::Male||1::Male||2::Male||3::Male||4::Male</td>\n      <td>0::Damien Bell||1::Desmen Noble||2::Herman Sea...</td>\n      <td>NaN</td>\n      <td>0::Injured, Unharmed, Arrested||1::Unharmed, A...</td>\n      <td>0::Subject-Suspect||1::Subject-Suspect||2::Vic...</td>\n      <td>http://www.morningjournal.com/general-news/201...</td>\n      <td>56.0</td>\n      <td>13.0</td>\n    </tr>\n    <tr>\n      <th>3</th>\n      <td>478925.0</td>\n      <td>1/5/2013</td>\n      <td>Colorado</td>\n      <td>Aurora</td>\n      <td>16000 block of East Ithaca Place</td>\n      <td>4.0</td>\n      <td>0.0</td>\n      <td>http://www.gunviolencearchive.org/incident/478925</td>\n      <td>http://www.dailydemocrat.com/20130106/aurora-s...</td>\n      <td>False</td>\n      <td>...</td>\n      <td>0::29||1::33||2::56||3::33</td>\n      <td>0::Adult 18+||1::Adult 18+||2::Adult 18+||3::A...</td>\n      <td>0::Female||1::Male||2::Male||3::Male</td>\n      <td>0::Stacie Philbrook||1::Christopher Ratliffe||...</td>\n      <td>NaN</td>\n      <td>0::Killed||1::Killed||2::Killed||3::Killed</td>\n      <td>0::Victim||1::Victim||2::Victim||3::Subject-Su...</td>\n      <td>http://denver.cbslocal.com/2013/01/06/officer-...</td>\n      <td>40.0</td>\n      <td>28.0</td>\n    </tr>\n    <tr>\n      <th>4</th>\n      <td>478959.0</td>\n      <td>1/7/2013</td>\n      <td>North Carolina</td>\n      <td>Greensboro</td>\n      <td>307 Mourning Dove Terrace</td>\n      <td>2.0</td>\n      <td>2.0</td>\n      <td>http://www.gunviolencearchive.org/incident/478959</td>\n      <td>http://www.journalnow.com/news/local/article_d...</td>\n      <td>False</td>\n      <td>...</td>\n      <td>0::18||1::46||2::14||3::47</td>\n      <td>0::Adult 18+||1::Adult 18+||2::Teen 12-17||3::...</td>\n      <td>0::Female||1::Male||2::Male||3::Female</td>\n      <td>0::Danielle Imani Jameison||1::Maurice Eugene ...</td>\n      <td>3::Family</td>\n      <td>0::Injured||1::Injured||2::Killed||3::Killed</td>\n      <td>0::Victim||1::Victim||2::Victim||3::Subject-Su...</td>\n      <td>http://myfox8.com/2013/01/08/update-mother-sho...</td>\n      <td>62.0</td>\n      <td>27.0</td>\n    </tr>\n  </tbody>\n</table>\n<p>5 rows × 29 columns</p>\n</div>"
     },
     "metadata": {},
     "execution_count": 93
    }
   ],
   "source": [
    "df = pd.read_csv(\"gun_violence_data.csv\", low_memory=False)\n",
    "# Our dataset is very large so we will limit it to the first 10,000 rows\n",
    "df = df.head(10000)\n",
    "# Shows the first few rows of our dataset\n",
    "df.head()"
   ]
  },
  {
   "source": [
    "## Cleaning Up the Data"
   ],
   "cell_type": "markdown",
   "metadata": {}
  },
  {
   "source": [
    "### Removing Extra Columns"
   ],
   "cell_type": "markdown",
   "metadata": {}
  },
  {
   "source": [
    "We have our data, but as you can see it is very messy. The first step we will take to make our data easier to manage and analyze is to remove all of the unnecessary columns. <br> While having many columns can be beneficial because of the added datapoints, columns such as links to websites and names of people will not help in our analysis. <br> There are also columns that have many missing values so we will remove those as well to make our analysis easier."
   ],
   "cell_type": "markdown",
   "metadata": {}
  },
  {
   "cell_type": "code",
   "execution_count": 94,
   "metadata": {},
   "outputs": [
    {
     "output_type": "execute_result",
     "data": {
      "text/plain": [
       "   incident_id      date           state city_or_county  n_killed  n_injured  \\\n",
       "0     461105.0  1/1/2013    Pennsylvania     Mckeesport       0.0        4.0   \n",
       "1     460726.0  1/1/2013      California      Hawthorne       1.0        3.0   \n",
       "2     478855.0  1/1/2013            Ohio         Lorain       1.0        3.0   \n",
       "3     478925.0  1/5/2013        Colorado         Aurora       4.0        0.0   \n",
       "4     478959.0  1/7/2013  North Carolina     Greensboro       2.0        2.0   \n",
       "\n",
       "   n_guns_involved                    participant_age  \\\n",
       "0              NaN                              0::20   \n",
       "1              NaN                              0::20   \n",
       "2              2.0  0::25||1::31||2::33||3::34||4::33   \n",
       "3              NaN         0::29||1::33||2::56||3::33   \n",
       "4              2.0         0::18||1::46||2::14||3::47   \n",
       "\n",
       "                            participant_gender  \n",
       "0         0::Male||1::Male||3::Male||4::Female  \n",
       "1                                      0::Male  \n",
       "2  0::Male||1::Male||2::Male||3::Male||4::Male  \n",
       "3         0::Female||1::Male||2::Male||3::Male  \n",
       "4       0::Female||1::Male||2::Male||3::Female  "
      ],
      "text/html": "<div>\n<style scoped>\n    .dataframe tbody tr th:only-of-type {\n        vertical-align: middle;\n    }\n\n    .dataframe tbody tr th {\n        vertical-align: top;\n    }\n\n    .dataframe thead th {\n        text-align: right;\n    }\n</style>\n<table border=\"1\" class=\"dataframe\">\n  <thead>\n    <tr style=\"text-align: right;\">\n      <th></th>\n      <th>incident_id</th>\n      <th>date</th>\n      <th>state</th>\n      <th>city_or_county</th>\n      <th>n_killed</th>\n      <th>n_injured</th>\n      <th>n_guns_involved</th>\n      <th>participant_age</th>\n      <th>participant_gender</th>\n    </tr>\n  </thead>\n  <tbody>\n    <tr>\n      <th>0</th>\n      <td>461105.0</td>\n      <td>1/1/2013</td>\n      <td>Pennsylvania</td>\n      <td>Mckeesport</td>\n      <td>0.0</td>\n      <td>4.0</td>\n      <td>NaN</td>\n      <td>0::20</td>\n      <td>0::Male||1::Male||3::Male||4::Female</td>\n    </tr>\n    <tr>\n      <th>1</th>\n      <td>460726.0</td>\n      <td>1/1/2013</td>\n      <td>California</td>\n      <td>Hawthorne</td>\n      <td>1.0</td>\n      <td>3.0</td>\n      <td>NaN</td>\n      <td>0::20</td>\n      <td>0::Male</td>\n    </tr>\n    <tr>\n      <th>2</th>\n      <td>478855.0</td>\n      <td>1/1/2013</td>\n      <td>Ohio</td>\n      <td>Lorain</td>\n      <td>1.0</td>\n      <td>3.0</td>\n      <td>2.0</td>\n      <td>0::25||1::31||2::33||3::34||4::33</td>\n      <td>0::Male||1::Male||2::Male||3::Male||4::Male</td>\n    </tr>\n    <tr>\n      <th>3</th>\n      <td>478925.0</td>\n      <td>1/5/2013</td>\n      <td>Colorado</td>\n      <td>Aurora</td>\n      <td>4.0</td>\n      <td>0.0</td>\n      <td>NaN</td>\n      <td>0::29||1::33||2::56||3::33</td>\n      <td>0::Female||1::Male||2::Male||3::Male</td>\n    </tr>\n    <tr>\n      <th>4</th>\n      <td>478959.0</td>\n      <td>1/7/2013</td>\n      <td>North Carolina</td>\n      <td>Greensboro</td>\n      <td>2.0</td>\n      <td>2.0</td>\n      <td>2.0</td>\n      <td>0::18||1::46||2::14||3::47</td>\n      <td>0::Female||1::Male||2::Male||3::Female</td>\n    </tr>\n  </tbody>\n</table>\n</div>"
     },
     "metadata": {},
     "execution_count": 94
    }
   ],
   "source": [
    "# Drops columns from our dataframe\n",
    "df = df.drop(columns = [\"incident_url\", \"source_url\", \"incident_url_fields_missing\", \"address\", \n",
    "\"congressional_district\", \"sources\", \"state_house_district\", \"state_senate_district\", \"gun_stolen\", \n",
    "\"gun_type\", \"latitude\", \"longitude\", \"notes\", \"location_description\", \"incident_characteristics\", \n",
    "\"participant_age_group\", \"participant_name\", \"participant_relationship\", \"participant_status\", \"participant_type\"])\n",
    "# Displays the first few rows of the dataframe\n",
    "df.head()"
   ]
  },
  {
   "source": [
    "### Removing Rows With Missing Values"
   ],
   "cell_type": "markdown",
   "metadata": {}
  },
  {
   "source": [
    "Even though we already dropped the columns that contain many missing values, there are still some missing values in the remaining columns. <Br> If a datapoint is missing in the DataFrame, it will be represented as the string \"nan\", except for the \"date\" column which represents the missing value as a series of \"#\"s. <br> Since we have an abundance of datapoints, we can simply remove every row that has a missing value in any column. <br> To do this we will iterate through the DataFrame row by row and delete the row if we find a \"nan\" or \"#\". "
   ],
   "cell_type": "markdown",
   "metadata": {}
  },
  {
   "cell_type": "code",
   "execution_count": 95,
   "metadata": {
    "tags": []
   },
   "outputs": [
    {
     "output_type": "execute_result",
     "data": {
      "text/plain": [
       "   incident_id       date           state city_or_county  n_killed  n_injured  \\\n",
       "0     478855.0   1/1/2013            Ohio         Lorain       1.0        3.0   \n",
       "1     478959.0   1/7/2013  North Carolina     Greensboro       2.0        2.0   \n",
       "2     479363.0  1/19/2013      New Mexico    Albuquerque       5.0        0.0   \n",
       "3     491674.0  1/23/2013       Tennessee    Chattanooga       1.0        3.0   \n",
       "4     479413.0  1/25/2013        Missouri    Saint Louis       1.0        3.0   \n",
       "\n",
       "   n_guns_involved                        participant_age  \\\n",
       "0              2.0      0::25||1::31||2::33||3::34||4::33   \n",
       "1              2.0             0::18||1::46||2::14||3::47   \n",
       "2              2.0  0::51||1::40||2::9||3::5||4::2||5::15   \n",
       "3              1.0                                  0::19   \n",
       "4              1.0                                  0::28   \n",
       "\n",
       "                                  participant_gender  \n",
       "0        0::Male||1::Male||2::Male||3::Male||4::Male  \n",
       "1             0::Female||1::Male||2::Male||3::Female  \n",
       "2  0::Male||1::Female||2::Male||3::Female||4::Fem...  \n",
       "3                 0::Male||1::Male||2::Male||3::Male  \n",
       "4                                            0::Male  "
      ],
      "text/html": "<div>\n<style scoped>\n    .dataframe tbody tr th:only-of-type {\n        vertical-align: middle;\n    }\n\n    .dataframe tbody tr th {\n        vertical-align: top;\n    }\n\n    .dataframe thead th {\n        text-align: right;\n    }\n</style>\n<table border=\"1\" class=\"dataframe\">\n  <thead>\n    <tr style=\"text-align: right;\">\n      <th></th>\n      <th>incident_id</th>\n      <th>date</th>\n      <th>state</th>\n      <th>city_or_county</th>\n      <th>n_killed</th>\n      <th>n_injured</th>\n      <th>n_guns_involved</th>\n      <th>participant_age</th>\n      <th>participant_gender</th>\n    </tr>\n  </thead>\n  <tbody>\n    <tr>\n      <th>0</th>\n      <td>478855.0</td>\n      <td>1/1/2013</td>\n      <td>Ohio</td>\n      <td>Lorain</td>\n      <td>1.0</td>\n      <td>3.0</td>\n      <td>2.0</td>\n      <td>0::25||1::31||2::33||3::34||4::33</td>\n      <td>0::Male||1::Male||2::Male||3::Male||4::Male</td>\n    </tr>\n    <tr>\n      <th>1</th>\n      <td>478959.0</td>\n      <td>1/7/2013</td>\n      <td>North Carolina</td>\n      <td>Greensboro</td>\n      <td>2.0</td>\n      <td>2.0</td>\n      <td>2.0</td>\n      <td>0::18||1::46||2::14||3::47</td>\n      <td>0::Female||1::Male||2::Male||3::Female</td>\n    </tr>\n    <tr>\n      <th>2</th>\n      <td>479363.0</td>\n      <td>1/19/2013</td>\n      <td>New Mexico</td>\n      <td>Albuquerque</td>\n      <td>5.0</td>\n      <td>0.0</td>\n      <td>2.0</td>\n      <td>0::51||1::40||2::9||3::5||4::2||5::15</td>\n      <td>0::Male||1::Female||2::Male||3::Female||4::Fem...</td>\n    </tr>\n    <tr>\n      <th>3</th>\n      <td>491674.0</td>\n      <td>1/23/2013</td>\n      <td>Tennessee</td>\n      <td>Chattanooga</td>\n      <td>1.0</td>\n      <td>3.0</td>\n      <td>1.0</td>\n      <td>0::19</td>\n      <td>0::Male||1::Male||2::Male||3::Male</td>\n    </tr>\n    <tr>\n      <th>4</th>\n      <td>479413.0</td>\n      <td>1/25/2013</td>\n      <td>Missouri</td>\n      <td>Saint Louis</td>\n      <td>1.0</td>\n      <td>3.0</td>\n      <td>1.0</td>\n      <td>0::28</td>\n      <td>0::Male</td>\n    </tr>\n  </tbody>\n</table>\n</div>"
     },
     "metadata": {},
     "execution_count": 95
    }
   ],
   "source": [
    "# Iterates through the DataFrame\n",
    "for index, row in df.iterrows():\n",
    "    # Retreives the value of the \"n_guns_involved\" column for the current row\n",
    "    n_guns_involved = str(row[\"n_guns_involved\"])\n",
    "    # Retreives the value of the \"date\" column for the current row\n",
    "    invalid_date = str(row[\"date\"])\n",
    "    # Retreives the value of the \"participant_age\" column for the current row\n",
    "    participant_age = str(row[\"participant_age\"])\n",
    "    # Retreives the value of the \"participant_gender\" column for the current row\n",
    "    participant_gender = str(row[\"participant_gender\"])\n",
    "\n",
    "    #Checks to make sure participant age follows the correct format\n",
    "    participant_age_list = str.split(str(row[\"participant_age\"]), \"||\")\n",
    "    invalid_age_format = False\n",
    "    for idx in range(len(participant_age_list)):\n",
    "        part_age = participant_age_list[idx][3:].replace(':', '')\n",
    "        if not re.match(\"^[0-9]+$\", part_age):\n",
    "            invalid_age_format = True\n",
    "\n",
    "    # Checks for any missing values\n",
    "    if n_guns_involved == \"nan\" or '#' in invalid_date or participant_age == \"nan\" or participant_gender == \"nan\" or invalid_age_format:\n",
    "        # Drops the row from the DataFrame if there were any missing values\n",
    "        df = df.drop(labels=index, axis=0)\n",
    "\n",
    "# Resets the indices in the DataFrame \n",
    "df = df.reset_index(drop=True)\n",
    "df.head()"
   ]
  },
  {
   "source": [
    "## Manipulating the Data"
   ],
   "cell_type": "markdown",
   "metadata": {}
  },
  {
   "source": [
    "Now that we have removed all of the unnecessary columns and missing values, we are almost ready to begin conducting analysis on the data. <br> Before we do that though, we should make our data look a little better. As you can see above, our \"participant_age\" and \"participant_gender\" values are stored as \"0::(value)||1::(value)...and so on\". <br> This is very difficult to perform analysis on because we cannot easily retrieve the data that we actually want. <br> To fix this, we will manipulate these columns and make it so they store an array of only the important data, i.e. the ages and genders.<br> For example, if before the value of \"participant_age\" for a certain row was \"0::25||1::31||2::33||3::34||4::33\", after our manipulation it will become \"\\[25, 31, 33, 34, 33]\".\t"
   ],
   "cell_type": "markdown",
   "metadata": {}
  },
  {
   "cell_type": "code",
   "execution_count": 96,
   "metadata": {
    "tags": []
   },
   "outputs": [
    {
     "output_type": "execute_result",
     "data": {
      "text/plain": [
       "   incident_id       date           state city_or_county  n_killed  n_injured  \\\n",
       "0     478855.0   1/1/2013            Ohio         Lorain       1.0        3.0   \n",
       "1     478959.0   1/7/2013  North Carolina     Greensboro       2.0        2.0   \n",
       "2     479363.0  1/19/2013      New Mexico    Albuquerque       5.0        0.0   \n",
       "3     479413.0  1/25/2013        Missouri    Saint Louis       1.0        3.0   \n",
       "4     479603.0   2/9/2013       Louisiana    New Orleans       0.0        4.0   \n",
       "\n",
       "   n_guns_involved               participant_age  \\\n",
       "0              2.0          [25, 31, 33, 34, 33]   \n",
       "1              2.0              [18, 46, 14, 47]   \n",
       "2              2.0         [51, 40, 9, 5, 2, 15]   \n",
       "3              1.0                          [28]   \n",
       "4              1.0  [18, 22, 21, 29, 19, 22, 23]   \n",
       "\n",
       "                               participant_gender  \n",
       "0                  [Male, Male, Male, Male, Male]  \n",
       "1                    [Female, Male, Male, Female]  \n",
       "2      [Male, Female, Male, Female, Female, Male]  \n",
       "3                                          [Male]  \n",
       "4  [Male, Female, Female, Male, Male, Male, Male]  "
      ],
      "text/html": "<div>\n<style scoped>\n    .dataframe tbody tr th:only-of-type {\n        vertical-align: middle;\n    }\n\n    .dataframe tbody tr th {\n        vertical-align: top;\n    }\n\n    .dataframe thead th {\n        text-align: right;\n    }\n</style>\n<table border=\"1\" class=\"dataframe\">\n  <thead>\n    <tr style=\"text-align: right;\">\n      <th></th>\n      <th>incident_id</th>\n      <th>date</th>\n      <th>state</th>\n      <th>city_or_county</th>\n      <th>n_killed</th>\n      <th>n_injured</th>\n      <th>n_guns_involved</th>\n      <th>participant_age</th>\n      <th>participant_gender</th>\n    </tr>\n  </thead>\n  <tbody>\n    <tr>\n      <th>0</th>\n      <td>478855.0</td>\n      <td>1/1/2013</td>\n      <td>Ohio</td>\n      <td>Lorain</td>\n      <td>1.0</td>\n      <td>3.0</td>\n      <td>2.0</td>\n      <td>[25, 31, 33, 34, 33]</td>\n      <td>[Male, Male, Male, Male, Male]</td>\n    </tr>\n    <tr>\n      <th>1</th>\n      <td>478959.0</td>\n      <td>1/7/2013</td>\n      <td>North Carolina</td>\n      <td>Greensboro</td>\n      <td>2.0</td>\n      <td>2.0</td>\n      <td>2.0</td>\n      <td>[18, 46, 14, 47]</td>\n      <td>[Female, Male, Male, Female]</td>\n    </tr>\n    <tr>\n      <th>2</th>\n      <td>479363.0</td>\n      <td>1/19/2013</td>\n      <td>New Mexico</td>\n      <td>Albuquerque</td>\n      <td>5.0</td>\n      <td>0.0</td>\n      <td>2.0</td>\n      <td>[51, 40, 9, 5, 2, 15]</td>\n      <td>[Male, Female, Male, Female, Female, Male]</td>\n    </tr>\n    <tr>\n      <th>3</th>\n      <td>479413.0</td>\n      <td>1/25/2013</td>\n      <td>Missouri</td>\n      <td>Saint Louis</td>\n      <td>1.0</td>\n      <td>3.0</td>\n      <td>1.0</td>\n      <td>[28]</td>\n      <td>[Male]</td>\n    </tr>\n    <tr>\n      <th>4</th>\n      <td>479603.0</td>\n      <td>2/9/2013</td>\n      <td>Louisiana</td>\n      <td>New Orleans</td>\n      <td>0.0</td>\n      <td>4.0</td>\n      <td>1.0</td>\n      <td>[18, 22, 21, 29, 19, 22, 23]</td>\n      <td>[Male, Female, Female, Male, Male, Male, Male]</td>\n    </tr>\n  </tbody>\n</table>\n</div>"
     },
     "metadata": {},
     "execution_count": 96
    }
   ],
   "source": [
    "# Iterates through the dataframe\n",
    "for index, row in df.iterrows():\n",
    "    # Split the participant age value into an array of values separated by '||'\n",
    "    # Each index of the array should look something like: '::(value)'\n",
    "    participant_age_list = str.split(str(row[\"participant_age\"]), \"||\")\n",
    "    # Iterate over that array of values\n",
    "    for idx in range(len(participant_age_list)):\n",
    "        # Remove the '::' \n",
    "        part_age = participant_age_list[idx][3:].replace(':', '')\n",
    "        # Convert to value from string to integer\n",
    "        participant_age_list[idx] = int(part_age)\n",
    "        # Replace the value in the DataFrame with the new array of integer values\n",
    "        df.at[index, \"participant_age\"] = participant_age_list\n",
    "\n",
    "    # Split the participant gender value into an array of values separated by '||'\n",
    "    # Each index of the array should look something like: '::(value)'\n",
    "    participant_gender_list = str.split(str(row[\"participant_gender\"]), \"||\")\n",
    "    # Iterate over that array of values\n",
    "    for idx in range(len(participant_gender_list)):\n",
    "        # Remove the '::'\n",
    "        participant_gender_list[idx] = participant_gender_list[idx][3:].replace(':', '')\n",
    "        # Replace the value in the DataFrame with the new array of gender values\n",
    "        df.at[index, \"participant_gender\"] = participant_gender_list\n",
    "\n",
    "    # If for some reason the number of listed participant ages and genders are not equal, we remove the row from the DataFrame\n",
    "    if len(participant_age_list) != len(participant_gender_list):\n",
    "        df = df.drop(labels=index, axis=0)\n",
    "# Reset the indices of the DataFrame\n",
    "df = df.reset_index(drop=True)\n",
    "df.head()\n"
   ]
  },
  {
   "source": [
    "### Adding a New Column to the DataFrame"
   ],
   "cell_type": "markdown",
   "metadata": {}
  },
  {
   "source": [
    "Our data is now all cleaned up and ready to analyze. <br> One more thing that we can do to aid in our analysis is to add a new column that gives us the total number of participants involved. <br>Currently we can do that by retrieving the length of the participant_age or participant_gender array, but it is much better to have a new column in the DataFrame that tells us exactly how many people were involved."
   ],
   "cell_type": "markdown",
   "metadata": {}
  },
  {
   "cell_type": "code",
   "execution_count": 97,
   "metadata": {},
   "outputs": [
    {
     "output_type": "execute_result",
     "data": {
      "text/plain": [
       "   incident_id       date           state city_or_county  n_killed  n_injured  \\\n",
       "0     478855.0   1/1/2013            Ohio         Lorain       1.0        3.0   \n",
       "1     478959.0   1/7/2013  North Carolina     Greensboro       2.0        2.0   \n",
       "2     479363.0  1/19/2013      New Mexico    Albuquerque       5.0        0.0   \n",
       "3     479413.0  1/25/2013        Missouri    Saint Louis       1.0        3.0   \n",
       "4     479603.0   2/9/2013       Louisiana    New Orleans       0.0        4.0   \n",
       "\n",
       "   n_guns_involved  n_participants               participant_age  \\\n",
       "0              2.0               5          [25, 31, 33, 34, 33]   \n",
       "1              2.0               4              [18, 46, 14, 47]   \n",
       "2              2.0               6         [51, 40, 9, 5, 2, 15]   \n",
       "3              1.0               1                          [28]   \n",
       "4              1.0               7  [18, 22, 21, 29, 19, 22, 23]   \n",
       "\n",
       "                               participant_gender  \n",
       "0                  [Male, Male, Male, Male, Male]  \n",
       "1                    [Female, Male, Male, Female]  \n",
       "2      [Male, Female, Male, Female, Female, Male]  \n",
       "3                                          [Male]  \n",
       "4  [Male, Female, Female, Male, Male, Male, Male]  "
      ],
      "text/html": "<div>\n<style scoped>\n    .dataframe tbody tr th:only-of-type {\n        vertical-align: middle;\n    }\n\n    .dataframe tbody tr th {\n        vertical-align: top;\n    }\n\n    .dataframe thead th {\n        text-align: right;\n    }\n</style>\n<table border=\"1\" class=\"dataframe\">\n  <thead>\n    <tr style=\"text-align: right;\">\n      <th></th>\n      <th>incident_id</th>\n      <th>date</th>\n      <th>state</th>\n      <th>city_or_county</th>\n      <th>n_killed</th>\n      <th>n_injured</th>\n      <th>n_guns_involved</th>\n      <th>n_participants</th>\n      <th>participant_age</th>\n      <th>participant_gender</th>\n    </tr>\n  </thead>\n  <tbody>\n    <tr>\n      <th>0</th>\n      <td>478855.0</td>\n      <td>1/1/2013</td>\n      <td>Ohio</td>\n      <td>Lorain</td>\n      <td>1.0</td>\n      <td>3.0</td>\n      <td>2.0</td>\n      <td>5</td>\n      <td>[25, 31, 33, 34, 33]</td>\n      <td>[Male, Male, Male, Male, Male]</td>\n    </tr>\n    <tr>\n      <th>1</th>\n      <td>478959.0</td>\n      <td>1/7/2013</td>\n      <td>North Carolina</td>\n      <td>Greensboro</td>\n      <td>2.0</td>\n      <td>2.0</td>\n      <td>2.0</td>\n      <td>4</td>\n      <td>[18, 46, 14, 47]</td>\n      <td>[Female, Male, Male, Female]</td>\n    </tr>\n    <tr>\n      <th>2</th>\n      <td>479363.0</td>\n      <td>1/19/2013</td>\n      <td>New Mexico</td>\n      <td>Albuquerque</td>\n      <td>5.0</td>\n      <td>0.0</td>\n      <td>2.0</td>\n      <td>6</td>\n      <td>[51, 40, 9, 5, 2, 15]</td>\n      <td>[Male, Female, Male, Female, Female, Male]</td>\n    </tr>\n    <tr>\n      <th>3</th>\n      <td>479413.0</td>\n      <td>1/25/2013</td>\n      <td>Missouri</td>\n      <td>Saint Louis</td>\n      <td>1.0</td>\n      <td>3.0</td>\n      <td>1.0</td>\n      <td>1</td>\n      <td>[28]</td>\n      <td>[Male]</td>\n    </tr>\n    <tr>\n      <th>4</th>\n      <td>479603.0</td>\n      <td>2/9/2013</td>\n      <td>Louisiana</td>\n      <td>New Orleans</td>\n      <td>0.0</td>\n      <td>4.0</td>\n      <td>1.0</td>\n      <td>7</td>\n      <td>[18, 22, 21, 29, 19, 22, 23]</td>\n      <td>[Male, Female, Female, Male, Male, Male, Male]</td>\n    </tr>\n  </tbody>\n</table>\n</div>"
     },
     "metadata": {},
     "execution_count": 97
    }
   ],
   "source": [
    "# Initialize a new list\n",
    "n_participants_list = []\n",
    "# Iterate over the DataFrame\n",
    "for index, row in df.iterrows():\n",
    "    # Add the length of the \"participant_age\" array at that row to our number of participants list\n",
    "    n_participants_list.append(len(row[\"participant_age\"]))  \n",
    "# Insert the 'n_participants_list' into the DataFrame with name 'n_participants' at index 7, so that it comes right before 'participant_age'\n",
    "df.insert(7, 'n_participants', n_participants_list)\n",
    "df.head()"
   ]
  }
 ]
}