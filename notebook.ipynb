{
 "metadata": {
  "language_info": {
   "codemirror_mode": {
    "name": "ipython",
    "version": 3
   },
   "file_extension": ".py",
   "mimetype": "text/x-python",
   "name": "python",
   "nbconvert_exporter": "python",
   "pygments_lexer": "ipython3",
   "version": "3.9.1"
  },
  "orig_nbformat": 2,
  "kernelspec": {
   "name": "python391jvsc74a57bd063fd5069d213b44bf678585dea6b12cceca9941eaf7f819626cde1f2670de90d",
   "display_name": "Python 3.9.1 64-bit"
  },
  "metadata": {
   "interpreter": {
    "hash": "63fd5069d213b44bf678585dea6b12cceca9941eaf7f819626cde1f2670de90d"
   }
  }
 },
 "nbformat": 4,
 "nbformat_minor": 2,
 "cells": [
  {
   "cell_type": "code",
   "execution_count": 1,
   "metadata": {},
   "outputs": [],
   "source": [
    "import pandas as pd"
   ]
  },
  {
   "cell_type": "code",
   "execution_count": 2,
   "metadata": {},
   "outputs": [
    {
     "output_type": "execute_result",
     "data": {
      "text/plain": [
       "   incident_id        date           state city_or_county  \\\n",
       "0       461105  2013-01-01    Pennsylvania     Mckeesport   \n",
       "1       460726  2013-01-01      California      Hawthorne   \n",
       "2       478855  2013-01-01            Ohio         Lorain   \n",
       "3       478925  2013-01-05        Colorado         Aurora   \n",
       "4       478959  2013-01-07  North Carolina     Greensboro   \n",
       "\n",
       "                                     address  n_killed  n_injured  \\\n",
       "0  1506 Versailles Avenue and Coursin Street         0          4   \n",
       "1               13500 block of Cerise Avenue         1          3   \n",
       "2                      1776 East 28th Street         1          3   \n",
       "3           16000 block of East Ithaca Place         4          0   \n",
       "4                  307 Mourning Dove Terrace         2          2   \n",
       "\n",
       "                                        incident_url  \\\n",
       "0  http://www.gunviolencearchive.org/incident/461105   \n",
       "1  http://www.gunviolencearchive.org/incident/460726   \n",
       "2  http://www.gunviolencearchive.org/incident/478855   \n",
       "3  http://www.gunviolencearchive.org/incident/478925   \n",
       "4  http://www.gunviolencearchive.org/incident/478959   \n",
       "\n",
       "                                          source_url  \\\n",
       "0  http://www.post-gazette.com/local/south/2013/0...   \n",
       "1  http://www.dailybulletin.com/article/zz/201301...   \n",
       "2  http://chronicle.northcoastnow.com/2013/02/14/...   \n",
       "3  http://www.dailydemocrat.com/20130106/aurora-s...   \n",
       "4  http://www.journalnow.com/news/local/article_d...   \n",
       "\n",
       "   incident_url_fields_missing  ...                    participant_age  \\\n",
       "0                        False  ...                              0::20   \n",
       "1                        False  ...                              0::20   \n",
       "2                        False  ...  0::25||1::31||2::33||3::34||4::33   \n",
       "3                        False  ...         0::29||1::33||2::56||3::33   \n",
       "4                        False  ...         0::18||1::46||2::14||3::47   \n",
       "\n",
       "                               participant_age_group  \\\n",
       "0  0::Adult 18+||1::Adult 18+||2::Adult 18+||3::A...   \n",
       "1  0::Adult 18+||1::Adult 18+||2::Adult 18+||3::A...   \n",
       "2  0::Adult 18+||1::Adult 18+||2::Adult 18+||3::A...   \n",
       "3  0::Adult 18+||1::Adult 18+||2::Adult 18+||3::A...   \n",
       "4  0::Adult 18+||1::Adult 18+||2::Teen 12-17||3::...   \n",
       "\n",
       "                            participant_gender  \\\n",
       "0         0::Male||1::Male||3::Male||4::Female   \n",
       "1                                      0::Male   \n",
       "2  0::Male||1::Male||2::Male||3::Male||4::Male   \n",
       "3         0::Female||1::Male||2::Male||3::Male   \n",
       "4       0::Female||1::Male||2::Male||3::Female   \n",
       "\n",
       "                                    participant_name  \\\n",
       "0                                     0::Julian Sims   \n",
       "1                                  0::Bernard Gillis   \n",
       "2  0::Damien Bell||1::Desmen Noble||2::Herman Sea...   \n",
       "3  0::Stacie Philbrook||1::Christopher Ratliffe||...   \n",
       "4  0::Danielle Imani Jameison||1::Maurice Eugene ...   \n",
       "\n",
       "   participant_relationship  \\\n",
       "0                       NaN   \n",
       "1                       NaN   \n",
       "2                       NaN   \n",
       "3                       NaN   \n",
       "4                 3::Family   \n",
       "\n",
       "                                  participant_status  \\\n",
       "0  0::Arrested||1::Injured||2::Injured||3::Injure...   \n",
       "1      0::Killed||1::Injured||2::Injured||3::Injured   \n",
       "2  0::Injured, Unharmed, Arrested||1::Unharmed, A...   \n",
       "3         0::Killed||1::Killed||2::Killed||3::Killed   \n",
       "4       0::Injured||1::Injured||2::Killed||3::Killed   \n",
       "\n",
       "                                    participant_type  \\\n",
       "0  0::Victim||1::Victim||2::Victim||3::Victim||4:...   \n",
       "1  0::Victim||1::Victim||2::Victim||3::Victim||4:...   \n",
       "2  0::Subject-Suspect||1::Subject-Suspect||2::Vic...   \n",
       "3  0::Victim||1::Victim||2::Victim||3::Subject-Su...   \n",
       "4  0::Victim||1::Victim||2::Victim||3::Subject-Su...   \n",
       "\n",
       "                                             sources state_house_district  \\\n",
       "0  http://pittsburgh.cbslocal.com/2013/01/01/4-pe...                  NaN   \n",
       "1  http://losangeles.cbslocal.com/2013/01/01/man-...                 62.0   \n",
       "2  http://www.morningjournal.com/general-news/201...                 56.0   \n",
       "3  http://denver.cbslocal.com/2013/01/06/officer-...                 40.0   \n",
       "4  http://myfox8.com/2013/01/08/update-mother-sho...                 62.0   \n",
       "\n",
       "  state_senate_district  \n",
       "0                   NaN  \n",
       "1                  35.0  \n",
       "2                  13.0  \n",
       "3                  28.0  \n",
       "4                  27.0  \n",
       "\n",
       "[5 rows x 29 columns]"
      ],
      "text/html": "<div>\n<style scoped>\n    .dataframe tbody tr th:only-of-type {\n        vertical-align: middle;\n    }\n\n    .dataframe tbody tr th {\n        vertical-align: top;\n    }\n\n    .dataframe thead th {\n        text-align: right;\n    }\n</style>\n<table border=\"1\" class=\"dataframe\">\n  <thead>\n    <tr style=\"text-align: right;\">\n      <th></th>\n      <th>incident_id</th>\n      <th>date</th>\n      <th>state</th>\n      <th>city_or_county</th>\n      <th>address</th>\n      <th>n_killed</th>\n      <th>n_injured</th>\n      <th>incident_url</th>\n      <th>source_url</th>\n      <th>incident_url_fields_missing</th>\n      <th>...</th>\n      <th>participant_age</th>\n      <th>participant_age_group</th>\n      <th>participant_gender</th>\n      <th>participant_name</th>\n      <th>participant_relationship</th>\n      <th>participant_status</th>\n      <th>participant_type</th>\n      <th>sources</th>\n      <th>state_house_district</th>\n      <th>state_senate_district</th>\n    </tr>\n  </thead>\n  <tbody>\n    <tr>\n      <th>0</th>\n      <td>461105</td>\n      <td>2013-01-01</td>\n      <td>Pennsylvania</td>\n      <td>Mckeesport</td>\n      <td>1506 Versailles Avenue and Coursin Street</td>\n      <td>0</td>\n      <td>4</td>\n      <td>http://www.gunviolencearchive.org/incident/461105</td>\n      <td>http://www.post-gazette.com/local/south/2013/0...</td>\n      <td>False</td>\n      <td>...</td>\n      <td>0::20</td>\n      <td>0::Adult 18+||1::Adult 18+||2::Adult 18+||3::A...</td>\n      <td>0::Male||1::Male||3::Male||4::Female</td>\n      <td>0::Julian Sims</td>\n      <td>NaN</td>\n      <td>0::Arrested||1::Injured||2::Injured||3::Injure...</td>\n      <td>0::Victim||1::Victim||2::Victim||3::Victim||4:...</td>\n      <td>http://pittsburgh.cbslocal.com/2013/01/01/4-pe...</td>\n      <td>NaN</td>\n      <td>NaN</td>\n    </tr>\n    <tr>\n      <th>1</th>\n      <td>460726</td>\n      <td>2013-01-01</td>\n      <td>California</td>\n      <td>Hawthorne</td>\n      <td>13500 block of Cerise Avenue</td>\n      <td>1</td>\n      <td>3</td>\n      <td>http://www.gunviolencearchive.org/incident/460726</td>\n      <td>http://www.dailybulletin.com/article/zz/201301...</td>\n      <td>False</td>\n      <td>...</td>\n      <td>0::20</td>\n      <td>0::Adult 18+||1::Adult 18+||2::Adult 18+||3::A...</td>\n      <td>0::Male</td>\n      <td>0::Bernard Gillis</td>\n      <td>NaN</td>\n      <td>0::Killed||1::Injured||2::Injured||3::Injured</td>\n      <td>0::Victim||1::Victim||2::Victim||3::Victim||4:...</td>\n      <td>http://losangeles.cbslocal.com/2013/01/01/man-...</td>\n      <td>62.0</td>\n      <td>35.0</td>\n    </tr>\n    <tr>\n      <th>2</th>\n      <td>478855</td>\n      <td>2013-01-01</td>\n      <td>Ohio</td>\n      <td>Lorain</td>\n      <td>1776 East 28th Street</td>\n      <td>1</td>\n      <td>3</td>\n      <td>http://www.gunviolencearchive.org/incident/478855</td>\n      <td>http://chronicle.northcoastnow.com/2013/02/14/...</td>\n      <td>False</td>\n      <td>...</td>\n      <td>0::25||1::31||2::33||3::34||4::33</td>\n      <td>0::Adult 18+||1::Adult 18+||2::Adult 18+||3::A...</td>\n      <td>0::Male||1::Male||2::Male||3::Male||4::Male</td>\n      <td>0::Damien Bell||1::Desmen Noble||2::Herman Sea...</td>\n      <td>NaN</td>\n      <td>0::Injured, Unharmed, Arrested||1::Unharmed, A...</td>\n      <td>0::Subject-Suspect||1::Subject-Suspect||2::Vic...</td>\n      <td>http://www.morningjournal.com/general-news/201...</td>\n      <td>56.0</td>\n      <td>13.0</td>\n    </tr>\n    <tr>\n      <th>3</th>\n      <td>478925</td>\n      <td>2013-01-05</td>\n      <td>Colorado</td>\n      <td>Aurora</td>\n      <td>16000 block of East Ithaca Place</td>\n      <td>4</td>\n      <td>0</td>\n      <td>http://www.gunviolencearchive.org/incident/478925</td>\n      <td>http://www.dailydemocrat.com/20130106/aurora-s...</td>\n      <td>False</td>\n      <td>...</td>\n      <td>0::29||1::33||2::56||3::33</td>\n      <td>0::Adult 18+||1::Adult 18+||2::Adult 18+||3::A...</td>\n      <td>0::Female||1::Male||2::Male||3::Male</td>\n      <td>0::Stacie Philbrook||1::Christopher Ratliffe||...</td>\n      <td>NaN</td>\n      <td>0::Killed||1::Killed||2::Killed||3::Killed</td>\n      <td>0::Victim||1::Victim||2::Victim||3::Subject-Su...</td>\n      <td>http://denver.cbslocal.com/2013/01/06/officer-...</td>\n      <td>40.0</td>\n      <td>28.0</td>\n    </tr>\n    <tr>\n      <th>4</th>\n      <td>478959</td>\n      <td>2013-01-07</td>\n      <td>North Carolina</td>\n      <td>Greensboro</td>\n      <td>307 Mourning Dove Terrace</td>\n      <td>2</td>\n      <td>2</td>\n      <td>http://www.gunviolencearchive.org/incident/478959</td>\n      <td>http://www.journalnow.com/news/local/article_d...</td>\n      <td>False</td>\n      <td>...</td>\n      <td>0::18||1::46||2::14||3::47</td>\n      <td>0::Adult 18+||1::Adult 18+||2::Teen 12-17||3::...</td>\n      <td>0::Female||1::Male||2::Male||3::Female</td>\n      <td>0::Danielle Imani Jameison||1::Maurice Eugene ...</td>\n      <td>3::Family</td>\n      <td>0::Injured||1::Injured||2::Killed||3::Killed</td>\n      <td>0::Victim||1::Victim||2::Victim||3::Subject-Su...</td>\n      <td>http://myfox8.com/2013/01/08/update-mother-sho...</td>\n      <td>62.0</td>\n      <td>27.0</td>\n    </tr>\n  </tbody>\n</table>\n<p>5 rows × 29 columns</p>\n</div>"
     },
     "metadata": {},
     "execution_count": 2
    }
   ],
   "source": [
    "df = pd.read_csv(\"gun_violence_data.csv\", low_memory=False)\n",
    "df.head()"
   ]
  },
  {
   "cell_type": "code",
   "execution_count": 3,
   "metadata": {},
   "outputs": [
    {
     "output_type": "stream",
     "name": "stdout",
     "text": [
      "      incident_id        date           state city_or_county  \\\n0          461105  2013-01-01    Pennsylvania     Mckeesport   \n1          460726  2013-01-01      California      Hawthorne   \n2          478855  2013-01-01            Ohio         Lorain   \n3          478925  2013-01-05        Colorado         Aurora   \n4          478959  2013-01-07  North Carolina     Greensboro   \n...           ...         ...             ...            ...   \n9995       180380  2014-03-21        New York   Johnson City   \n9996       117320  2014-03-21        Maryland       Aberdeen   \n9997       117316  2014-03-21      California         Merced   \n9998       119868  2014-03-21        Illinois        Chicago   \n9999       117347  2014-03-21         Florida        Sanford   \n\n                                        address  n_killed  n_injured  \\\n0     1506 Versailles Avenue and Coursin Street         0          4   \n1                  13500 block of Cerise Avenue         1          3   \n2                         1776 East 28th Street         1          3   \n3              16000 block of East Ithaca Place         4          0   \n4                     307 Mourning Dove Terrace         2          2   \n...                                         ...       ...        ...   \n9995                            Fairview Street         0          1   \n9996                              Interstate 95         1          0   \n9997                         West 11th and 12th         0          0   \n9998                   7500 South Racine Avenue         0          2   \n9999                              2509 Yale Ave         0          0   \n\n                                           incident_url  \\\n0     http://www.gunviolencearchive.org/incident/461105   \n1     http://www.gunviolencearchive.org/incident/460726   \n2     http://www.gunviolencearchive.org/incident/478855   \n3     http://www.gunviolencearchive.org/incident/478925   \n4     http://www.gunviolencearchive.org/incident/478959   \n...                                                 ...   \n9995  http://www.gunviolencearchive.org/incident/180380   \n9996  http://www.gunviolencearchive.org/incident/117320   \n9997  http://www.gunviolencearchive.org/incident/117316   \n9998  http://www.gunviolencearchive.org/incident/119868   \n9999  http://www.gunviolencearchive.org/incident/117347   \n\n                                             source_url  \\\n0     http://www.post-gazette.com/local/south/2013/0...   \n1     http://www.dailybulletin.com/article/zz/201301...   \n2     http://chronicle.northcoastnow.com/2013/02/14/...   \n3     http://www.dailydemocrat.com/20130106/aurora-s...   \n4     http://www.journalnow.com/news/local/article_d...   \n...                                                 ...   \n9995  http://www.pressconnects.com/article/20140321/...   \n9996  http://www.wbaltv.com/news/man-killed-by-polic...   \n9997  http://www.mercedsunstar.com/2014/03/21/356071...   \n9998  http://www.myfoxchicago.com/story/25107730/ham...   \n9999  http://www.clickorlando.com/news/sanford-polic...   \n\n      incident_url_fields_missing  ...                    participant_age  \\\n0                           False  ...                              0::20   \n1                           False  ...                              0::20   \n2                           False  ...  0::25||1::31||2::33||3::34||4::33   \n3                           False  ...         0::29||1::33||2::56||3::33   \n4                           False  ...         0::18||1::46||2::14||3::47   \n...                           ...  ...                                ...   \n9995                        False  ...                               0:24   \n9996                        False  ...                               0:29   \n9997                        False  ...                                NaN   \n9998                        False  ...                     0:21|1:31|2:18   \n9999                        False  ...                     1:19|2:19|3:17   \n\n                                  participant_age_group  \\\n0     0::Adult 18+||1::Adult 18+||2::Adult 18+||3::A...   \n1     0::Adult 18+||1::Adult 18+||2::Adult 18+||3::A...   \n2     0::Adult 18+||1::Adult 18+||2::Adult 18+||3::A...   \n3     0::Adult 18+||1::Adult 18+||2::Adult 18+||3::A...   \n4     0::Adult 18+||1::Adult 18+||2::Teen 12-17||3::...   \n...                                                 ...   \n9995                                        0:Adult 18+   \n9996                                        0:Adult 18+   \n9997                            0:Adult 18+|1:Adult 18+   \n9998                0:Adult 18+|1:Adult 18+|2:Adult 18+   \n9999   0:Adult 18+|1:Adult 18+|2:Adult 18+|3:Teen 12-17   \n\n                               participant_gender  \\\n0            0::Male||1::Male||3::Male||4::Female   \n1                                         0::Male   \n2     0::Male||1::Male||2::Male||3::Male||4::Male   \n3            0::Female||1::Male||2::Male||3::Male   \n4          0::Female||1::Male||2::Male||3::Female   \n...                                           ...   \n9995                                       0:Male   \n9996                                       0:Male   \n9997                                0:Male|1:Male   \n9998                         0:Male|1:Male|2:Male   \n9999                0:Female|1:Male|2:Male|3:Male   \n\n                                       participant_name  \\\n0                                        0::Julian Sims   \n1                                     0::Bernard Gillis   \n2     0::Damien Bell||1::Desmen Noble||2::Herman Sea...   \n3     0::Stacie Philbrook||1::Christopher Ratliffe||...   \n4     0::Danielle Imani Jameison||1::Maurice Eugene ...   \n...                                                 ...   \n9995                                    0:Aaron Cerecke   \n9996                                   0:Rajsaun McCray   \n9997                                                NaN   \n9998                                   2:Jeremiah Jones   \n9999       1:Thomas Clark|2:Matthew Teuta|3:Karl Jaquez   \n\n      participant_relationship  \\\n0                          NaN   \n1                          NaN   \n2                          NaN   \n3                          NaN   \n4                    3::Family   \n...                        ...   \n9995                       NaN   \n9996                       NaN   \n9997                       NaN   \n9998                       NaN   \n9999                       NaN   \n\n                                     participant_status  \\\n0     0::Arrested||1::Injured||2::Injured||3::Injure...   \n1         0::Killed||1::Injured||2::Injured||3::Injured   \n2     0::Injured, Unharmed, Arrested||1::Unharmed, A...   \n3            0::Killed||1::Killed||2::Killed||3::Killed   \n4          0::Injured||1::Injured||2::Killed||3::Killed   \n...                                                 ...   \n9995                                          0:Injured   \n9996                                           0:Killed   \n9997                                                NaN   \n9998                     0:Injured|1:Injured|2:Unharmed   \n9999        0:Unharmed|1:Unharmed|2:Unharmed|3:Unharmed   \n\n                                       participant_type  \\\n0     0::Victim||1::Victim||2::Victim||3::Victim||4:...   \n1     0::Victim||1::Victim||2::Victim||3::Victim||4:...   \n2     0::Subject-Suspect||1::Subject-Suspect||2::Vic...   \n3     0::Victim||1::Victim||2::Victim||3::Subject-Su...   \n4     0::Victim||1::Victim||2::Victim||3::Subject-Su...   \n...                                                 ...   \n9995                                           0:Victim   \n9996                                           0:Victim   \n9997                         0:Victim|1:Subject-Suspect   \n9998                0:Victim|1:Victim|2:Subject-Suspect   \n9999  0:Victim|1:Subject-Suspect|2:Subject-Suspect|3...   \n\n                                                sources state_house_district  \\\n0     http://pittsburgh.cbslocal.com/2013/01/01/4-pe...                  NaN   \n1     http://losangeles.cbslocal.com/2013/01/01/man-...                 62.0   \n2     http://www.morningjournal.com/general-news/201...                 56.0   \n3     http://denver.cbslocal.com/2013/01/06/officer-...                 40.0   \n4     http://myfox8.com/2013/01/08/update-mother-sho...                 62.0   \n...                                                 ...                  ...   \n9995  http://www.pressconnects.com/article/20140321/...                123.0   \n9996  http://www.nbcwashington.com/news/local/Md-Bur...                  NaN   \n9997  http://www.mercedsunstar.com/2014/03/21/356071...                 21.0   \n9998  http://www.myfoxchicago.com/story/25107730/ham...                 31.0   \n9999  http://www.clickorlando.com/news/sanford-polic...                 28.0   \n\n     state_senate_district  \n0                      NaN  \n1                     35.0  \n2                     13.0  \n3                     28.0  \n4                     27.0  \n...                    ...  \n9995                  52.0  \n9996                  34.0  \n9997                  12.0  \n9998                  16.0  \n9999                  10.0  \n\n[10000 rows x 29 columns]\n"
     ]
    }
   ],
   "source": [
    "df = df.head(10000)\n",
    "print(df)"
   ]
  },
  {
   "cell_type": "code",
   "execution_count": 4,
   "metadata": {},
   "outputs": [
    {
     "output_type": "execute_result",
     "data": {
      "text/plain": [
       "   incident_id        date           state city_or_county  n_killed  \\\n",
       "0       461105  2013-01-01    Pennsylvania     Mckeesport         0   \n",
       "1       460726  2013-01-01      California      Hawthorne         1   \n",
       "2       478855  2013-01-01            Ohio         Lorain         1   \n",
       "3       478925  2013-01-05        Colorado         Aurora         4   \n",
       "4       478959  2013-01-07  North Carolina     Greensboro         2   \n",
       "\n",
       "   n_injured  n_guns_involved                    participant_age  \\\n",
       "0          4              NaN                              0::20   \n",
       "1          3              NaN                              0::20   \n",
       "2          3              2.0  0::25||1::31||2::33||3::34||4::33   \n",
       "3          0              NaN         0::29||1::33||2::56||3::33   \n",
       "4          2              2.0         0::18||1::46||2::14||3::47   \n",
       "\n",
       "                            participant_gender  \n",
       "0         0::Male||1::Male||3::Male||4::Female  \n",
       "1                                      0::Male  \n",
       "2  0::Male||1::Male||2::Male||3::Male||4::Male  \n",
       "3         0::Female||1::Male||2::Male||3::Male  \n",
       "4       0::Female||1::Male||2::Male||3::Female  "
      ],
      "text/html": "<div>\n<style scoped>\n    .dataframe tbody tr th:only-of-type {\n        vertical-align: middle;\n    }\n\n    .dataframe tbody tr th {\n        vertical-align: top;\n    }\n\n    .dataframe thead th {\n        text-align: right;\n    }\n</style>\n<table border=\"1\" class=\"dataframe\">\n  <thead>\n    <tr style=\"text-align: right;\">\n      <th></th>\n      <th>incident_id</th>\n      <th>date</th>\n      <th>state</th>\n      <th>city_or_county</th>\n      <th>n_killed</th>\n      <th>n_injured</th>\n      <th>n_guns_involved</th>\n      <th>participant_age</th>\n      <th>participant_gender</th>\n    </tr>\n  </thead>\n  <tbody>\n    <tr>\n      <th>0</th>\n      <td>461105</td>\n      <td>2013-01-01</td>\n      <td>Pennsylvania</td>\n      <td>Mckeesport</td>\n      <td>0</td>\n      <td>4</td>\n      <td>NaN</td>\n      <td>0::20</td>\n      <td>0::Male||1::Male||3::Male||4::Female</td>\n    </tr>\n    <tr>\n      <th>1</th>\n      <td>460726</td>\n      <td>2013-01-01</td>\n      <td>California</td>\n      <td>Hawthorne</td>\n      <td>1</td>\n      <td>3</td>\n      <td>NaN</td>\n      <td>0::20</td>\n      <td>0::Male</td>\n    </tr>\n    <tr>\n      <th>2</th>\n      <td>478855</td>\n      <td>2013-01-01</td>\n      <td>Ohio</td>\n      <td>Lorain</td>\n      <td>1</td>\n      <td>3</td>\n      <td>2.0</td>\n      <td>0::25||1::31||2::33||3::34||4::33</td>\n      <td>0::Male||1::Male||2::Male||3::Male||4::Male</td>\n    </tr>\n    <tr>\n      <th>3</th>\n      <td>478925</td>\n      <td>2013-01-05</td>\n      <td>Colorado</td>\n      <td>Aurora</td>\n      <td>4</td>\n      <td>0</td>\n      <td>NaN</td>\n      <td>0::29||1::33||2::56||3::33</td>\n      <td>0::Female||1::Male||2::Male||3::Male</td>\n    </tr>\n    <tr>\n      <th>4</th>\n      <td>478959</td>\n      <td>2013-01-07</td>\n      <td>North Carolina</td>\n      <td>Greensboro</td>\n      <td>2</td>\n      <td>2</td>\n      <td>2.0</td>\n      <td>0::18||1::46||2::14||3::47</td>\n      <td>0::Female||1::Male||2::Male||3::Female</td>\n    </tr>\n  </tbody>\n</table>\n</div>"
     },
     "metadata": {},
     "execution_count": 4
    }
   ],
   "source": [
    "df = df.drop(columns = [\"incident_url\", \"source_url\", \"incident_url_fields_missing\", \"address\", \"congressional_district\", \"sources\", \"state_house_district\", \"state_senate_district\", \"gun_stolen\", \"gun_type\", \"latitude\", \"longitude\", \"notes\", \"location_description\", \"incident_characteristics\", \"participant_age_group\", \"participant_name\", \"participant_relationship\", \"participant_status\", \"participant_type\"])\n",
    "df.head()"
   ]
  },
  {
   "cell_type": "code",
   "execution_count": 5,
   "metadata": {
    "tags": []
   },
   "outputs": [
    {
     "output_type": "execute_result",
     "data": {
      "text/plain": [
       "   incident_id        date           state city_or_county  n_killed  \\\n",
       "0       478855  2013-01-01            Ohio         Lorain         1   \n",
       "1       478959  2013-01-07  North Carolina     Greensboro         2   \n",
       "2       479363  2013-01-19      New Mexico    Albuquerque         5   \n",
       "3       491674  2013-01-23       Tennessee    Chattanooga         1   \n",
       "4       479413  2013-01-25        Missouri    Saint Louis         1   \n",
       "\n",
       "   n_injured  n_guns_involved                        participant_age  \\\n",
       "0          3              2.0      0::25||1::31||2::33||3::34||4::33   \n",
       "1          2              2.0             0::18||1::46||2::14||3::47   \n",
       "2          0              2.0  0::51||1::40||2::9||3::5||4::2||5::15   \n",
       "3          3              1.0                                  0::19   \n",
       "4          3              1.0                                  0::28   \n",
       "\n",
       "                                  participant_gender  \n",
       "0        0::Male||1::Male||2::Male||3::Male||4::Male  \n",
       "1             0::Female||1::Male||2::Male||3::Female  \n",
       "2  0::Male||1::Female||2::Male||3::Female||4::Fem...  \n",
       "3                 0::Male||1::Male||2::Male||3::Male  \n",
       "4                                            0::Male  "
      ],
      "text/html": "<div>\n<style scoped>\n    .dataframe tbody tr th:only-of-type {\n        vertical-align: middle;\n    }\n\n    .dataframe tbody tr th {\n        vertical-align: top;\n    }\n\n    .dataframe thead th {\n        text-align: right;\n    }\n</style>\n<table border=\"1\" class=\"dataframe\">\n  <thead>\n    <tr style=\"text-align: right;\">\n      <th></th>\n      <th>incident_id</th>\n      <th>date</th>\n      <th>state</th>\n      <th>city_or_county</th>\n      <th>n_killed</th>\n      <th>n_injured</th>\n      <th>n_guns_involved</th>\n      <th>participant_age</th>\n      <th>participant_gender</th>\n    </tr>\n  </thead>\n  <tbody>\n    <tr>\n      <th>0</th>\n      <td>478855</td>\n      <td>2013-01-01</td>\n      <td>Ohio</td>\n      <td>Lorain</td>\n      <td>1</td>\n      <td>3</td>\n      <td>2.0</td>\n      <td>0::25||1::31||2::33||3::34||4::33</td>\n      <td>0::Male||1::Male||2::Male||3::Male||4::Male</td>\n    </tr>\n    <tr>\n      <th>1</th>\n      <td>478959</td>\n      <td>2013-01-07</td>\n      <td>North Carolina</td>\n      <td>Greensboro</td>\n      <td>2</td>\n      <td>2</td>\n      <td>2.0</td>\n      <td>0::18||1::46||2::14||3::47</td>\n      <td>0::Female||1::Male||2::Male||3::Female</td>\n    </tr>\n    <tr>\n      <th>2</th>\n      <td>479363</td>\n      <td>2013-01-19</td>\n      <td>New Mexico</td>\n      <td>Albuquerque</td>\n      <td>5</td>\n      <td>0</td>\n      <td>2.0</td>\n      <td>0::51||1::40||2::9||3::5||4::2||5::15</td>\n      <td>0::Male||1::Female||2::Male||3::Female||4::Fem...</td>\n    </tr>\n    <tr>\n      <th>3</th>\n      <td>491674</td>\n      <td>2013-01-23</td>\n      <td>Tennessee</td>\n      <td>Chattanooga</td>\n      <td>1</td>\n      <td>3</td>\n      <td>1.0</td>\n      <td>0::19</td>\n      <td>0::Male||1::Male||2::Male||3::Male</td>\n    </tr>\n    <tr>\n      <th>4</th>\n      <td>479413</td>\n      <td>2013-01-25</td>\n      <td>Missouri</td>\n      <td>Saint Louis</td>\n      <td>1</td>\n      <td>3</td>\n      <td>1.0</td>\n      <td>0::28</td>\n      <td>0::Male</td>\n    </tr>\n  </tbody>\n</table>\n</div>"
     },
     "metadata": {},
     "execution_count": 5
    }
   ],
   "source": [
    "for index, row in df.iterrows():\n",
    "    n_guns_involved = str(row[\"n_guns_involved\"])\n",
    "    invalid_date = str(row[\"date\"])\n",
    "    participant_age = str(row[\"participant_age\"])\n",
    "    participant_gender = str(row[\"participant_gender\"])\n",
    "    if n_guns_involved == \"nan\" or '#' in invalid_date or participant_age == \"nan\" or participant_gender == \"nan\":\n",
    "        df = df.drop(labels=index, axis=0)\n",
    "df = df.reset_index(drop=True)\n",
    "df.head()"
   ]
  },
  {
   "cell_type": "code",
   "execution_count": 6,
   "metadata": {
    "tags": []
   },
   "outputs": [
    {
     "output_type": "execute_result",
     "data": {
      "text/plain": [
       "   incident_id        date           state city_or_county  n_killed  \\\n",
       "0       478855  2013-01-01            Ohio         Lorain         1   \n",
       "1       478959  2013-01-07  North Carolina     Greensboro         2   \n",
       "2       479363  2013-01-19      New Mexico    Albuquerque         5   \n",
       "3       479413  2013-01-25        Missouri    Saint Louis         1   \n",
       "4       479603  2013-02-09       Louisiana    New Orleans         0   \n",
       "\n",
       "   n_injured  n_guns_involved               participant_age  \\\n",
       "0          3              2.0          [25, 31, 33, 34, 33]   \n",
       "1          2              2.0              [18, 46, 14, 47]   \n",
       "2          0              2.0         [51, 40, 9, 5, 2, 15]   \n",
       "3          3              1.0                          [28]   \n",
       "4          4              1.0  [18, 22, 21, 29, 19, 22, 23]   \n",
       "\n",
       "                               participant_gender  \n",
       "0                  [Male, Male, Male, Male, Male]  \n",
       "1                    [Female, Male, Male, Female]  \n",
       "2      [Male, Female, Male, Female, Female, Male]  \n",
       "3                                          [Male]  \n",
       "4  [Male, Female, Female, Male, Male, Male, Male]  "
      ],
      "text/html": "<div>\n<style scoped>\n    .dataframe tbody tr th:only-of-type {\n        vertical-align: middle;\n    }\n\n    .dataframe tbody tr th {\n        vertical-align: top;\n    }\n\n    .dataframe thead th {\n        text-align: right;\n    }\n</style>\n<table border=\"1\" class=\"dataframe\">\n  <thead>\n    <tr style=\"text-align: right;\">\n      <th></th>\n      <th>incident_id</th>\n      <th>date</th>\n      <th>state</th>\n      <th>city_or_county</th>\n      <th>n_killed</th>\n      <th>n_injured</th>\n      <th>n_guns_involved</th>\n      <th>participant_age</th>\n      <th>participant_gender</th>\n    </tr>\n  </thead>\n  <tbody>\n    <tr>\n      <th>0</th>\n      <td>478855</td>\n      <td>2013-01-01</td>\n      <td>Ohio</td>\n      <td>Lorain</td>\n      <td>1</td>\n      <td>3</td>\n      <td>2.0</td>\n      <td>[25, 31, 33, 34, 33]</td>\n      <td>[Male, Male, Male, Male, Male]</td>\n    </tr>\n    <tr>\n      <th>1</th>\n      <td>478959</td>\n      <td>2013-01-07</td>\n      <td>North Carolina</td>\n      <td>Greensboro</td>\n      <td>2</td>\n      <td>2</td>\n      <td>2.0</td>\n      <td>[18, 46, 14, 47]</td>\n      <td>[Female, Male, Male, Female]</td>\n    </tr>\n    <tr>\n      <th>2</th>\n      <td>479363</td>\n      <td>2013-01-19</td>\n      <td>New Mexico</td>\n      <td>Albuquerque</td>\n      <td>5</td>\n      <td>0</td>\n      <td>2.0</td>\n      <td>[51, 40, 9, 5, 2, 15]</td>\n      <td>[Male, Female, Male, Female, Female, Male]</td>\n    </tr>\n    <tr>\n      <th>3</th>\n      <td>479413</td>\n      <td>2013-01-25</td>\n      <td>Missouri</td>\n      <td>Saint Louis</td>\n      <td>1</td>\n      <td>3</td>\n      <td>1.0</td>\n      <td>[28]</td>\n      <td>[Male]</td>\n    </tr>\n    <tr>\n      <th>4</th>\n      <td>479603</td>\n      <td>2013-02-09</td>\n      <td>Louisiana</td>\n      <td>New Orleans</td>\n      <td>0</td>\n      <td>4</td>\n      <td>1.0</td>\n      <td>[18, 22, 21, 29, 19, 22, 23]</td>\n      <td>[Male, Female, Female, Male, Male, Male, Male]</td>\n    </tr>\n  </tbody>\n</table>\n</div>"
     },
     "metadata": {},
     "execution_count": 6
    }
   ],
   "source": [
    "for index, row in df.iterrows():\n",
    "    participant_age_list = str.split(str(row[\"participant_age\"]), \"||\")\n",
    "\n",
    "    for idx in range(len(participant_age_list)):\n",
    "        participant_age_list[idx] = participant_age_list[idx][3:].replace(':', '')\n",
    "        df.at[index, \"participant_age\"] = participant_age_list\n",
    "    participant_gender_list = str.split(str(row[\"participant_gender\"]), \"||\")\n",
    "\n",
    "    for idx in range(len(participant_gender_list)):\n",
    "        participant_gender_list[idx] = participant_gender_list[idx][3:]\n",
    "        df.at[index, \"participant_gender\"] = participant_gender_list\n",
    "\n",
    "    if len(participant_age_list) != len(participant_gender_list):\n",
    "        df = df.drop(labels=index, axis=0)\n",
    "\n",
    "df = df.reset_index(drop=True)\n",
    "df.head()\n"
   ]
  },
  {
   "cell_type": "code",
   "execution_count": 7,
   "metadata": {},
   "outputs": [
    {
     "output_type": "execute_result",
     "data": {
      "text/plain": [
       "   incident_id        date           state city_or_county  n_killed  \\\n",
       "0       478855  2013-01-01            Ohio         Lorain         1   \n",
       "1       478959  2013-01-07  North Carolina     Greensboro         2   \n",
       "2       479363  2013-01-19      New Mexico    Albuquerque         5   \n",
       "3       479413  2013-01-25        Missouri    Saint Louis         1   \n",
       "4       479603  2013-02-09       Louisiana    New Orleans         0   \n",
       "\n",
       "   n_injured  n_guns_involved  n_participants               participant_age  \\\n",
       "0          3              2.0               5          [25, 31, 33, 34, 33]   \n",
       "1          2              2.0               4              [18, 46, 14, 47]   \n",
       "2          0              2.0               6         [51, 40, 9, 5, 2, 15]   \n",
       "3          3              1.0               1                          [28]   \n",
       "4          4              1.0               7  [18, 22, 21, 29, 19, 22, 23]   \n",
       "\n",
       "                               participant_gender  \n",
       "0                  [Male, Male, Male, Male, Male]  \n",
       "1                    [Female, Male, Male, Female]  \n",
       "2      [Male, Female, Male, Female, Female, Male]  \n",
       "3                                          [Male]  \n",
       "4  [Male, Female, Female, Male, Male, Male, Male]  "
      ],
      "text/html": "<div>\n<style scoped>\n    .dataframe tbody tr th:only-of-type {\n        vertical-align: middle;\n    }\n\n    .dataframe tbody tr th {\n        vertical-align: top;\n    }\n\n    .dataframe thead th {\n        text-align: right;\n    }\n</style>\n<table border=\"1\" class=\"dataframe\">\n  <thead>\n    <tr style=\"text-align: right;\">\n      <th></th>\n      <th>incident_id</th>\n      <th>date</th>\n      <th>state</th>\n      <th>city_or_county</th>\n      <th>n_killed</th>\n      <th>n_injured</th>\n      <th>n_guns_involved</th>\n      <th>n_participants</th>\n      <th>participant_age</th>\n      <th>participant_gender</th>\n    </tr>\n  </thead>\n  <tbody>\n    <tr>\n      <th>0</th>\n      <td>478855</td>\n      <td>2013-01-01</td>\n      <td>Ohio</td>\n      <td>Lorain</td>\n      <td>1</td>\n      <td>3</td>\n      <td>2.0</td>\n      <td>5</td>\n      <td>[25, 31, 33, 34, 33]</td>\n      <td>[Male, Male, Male, Male, Male]</td>\n    </tr>\n    <tr>\n      <th>1</th>\n      <td>478959</td>\n      <td>2013-01-07</td>\n      <td>North Carolina</td>\n      <td>Greensboro</td>\n      <td>2</td>\n      <td>2</td>\n      <td>2.0</td>\n      <td>4</td>\n      <td>[18, 46, 14, 47]</td>\n      <td>[Female, Male, Male, Female]</td>\n    </tr>\n    <tr>\n      <th>2</th>\n      <td>479363</td>\n      <td>2013-01-19</td>\n      <td>New Mexico</td>\n      <td>Albuquerque</td>\n      <td>5</td>\n      <td>0</td>\n      <td>2.0</td>\n      <td>6</td>\n      <td>[51, 40, 9, 5, 2, 15]</td>\n      <td>[Male, Female, Male, Female, Female, Male]</td>\n    </tr>\n    <tr>\n      <th>3</th>\n      <td>479413</td>\n      <td>2013-01-25</td>\n      <td>Missouri</td>\n      <td>Saint Louis</td>\n      <td>1</td>\n      <td>3</td>\n      <td>1.0</td>\n      <td>1</td>\n      <td>[28]</td>\n      <td>[Male]</td>\n    </tr>\n    <tr>\n      <th>4</th>\n      <td>479603</td>\n      <td>2013-02-09</td>\n      <td>Louisiana</td>\n      <td>New Orleans</td>\n      <td>0</td>\n      <td>4</td>\n      <td>1.0</td>\n      <td>7</td>\n      <td>[18, 22, 21, 29, 19, 22, 23]</td>\n      <td>[Male, Female, Female, Male, Male, Male, Male]</td>\n    </tr>\n  </tbody>\n</table>\n</div>"
     },
     "metadata": {},
     "execution_count": 7
    }
   ],
   "source": [
    "n_participants_list = []\n",
    "for index, row in df.iterrows():\n",
    "    n_participants_list.append(len(row[\"participant_age\"]))  \n",
    "df.insert(7, 'n_participants', n_participants_list)\n",
    "df.head()"
   ]
  }
 ]
}